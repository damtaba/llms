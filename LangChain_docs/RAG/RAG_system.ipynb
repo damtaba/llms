{
 "cells": [
  {
   "cell_type": "markdown",
   "metadata": {},
   "source": [
    "# Paquetes y seteo"
   ]
  },
  {
   "cell_type": "code",
   "execution_count": 96,
   "metadata": {},
   "outputs": [
    {
     "name": "stdout",
     "output_type": "stream",
     "text": [
      "CPU times: total: 156 ms\n",
      "Wall time: 1min 17s\n"
     ]
    }
   ],
   "source": [
    "%%time\n",
    "\n",
    "!pip install --quiet --upgrade langchain-text-splitters langchain-community langgraph\n",
    "!pip install -qU langchain-chroma\n",
    "\n"
   ]
  },
  {
   "cell_type": "code",
   "execution_count": 144,
   "metadata": {},
   "outputs": [
    {
     "data": {
      "text/plain": [
       "True"
      ]
     },
     "execution_count": 144,
     "metadata": {},
     "output_type": "execute_result"
    }
   ],
   "source": [
    "import nest_asyncio\n",
    "import getpass\n",
    "import os\n",
    "from dotenv import load_dotenv\n",
    "import pprint\n",
    "\n",
    "from langchain_ollama import OllamaEmbeddings\n",
    "from ollama import Client\n",
    "import ollama\n",
    "from langchain.chat_models import init_chat_model\n",
    "from langchain_chroma import Chroma\n",
    "from langchain_community.document_loaders import PyPDFLoader\n",
    "from langchain_text_splitters import RecursiveCharacterTextSplitter\n",
    "\n",
    "from langchain import hub\n",
    "from langchain_core.documents import Document\n",
    "from typing_extensions import List, TypedDict\n",
    "\n",
    "nest_asyncio.apply()\n",
    "load_dotenv()"
   ]
  },
  {
   "cell_type": "code",
   "execution_count": null,
   "metadata": {},
   "outputs": [],
   "source": [
    "# LangSmith set up y credenciales\n",
    "\n",
    "LANGSMITH_TRACING= True\n",
    "LANGSMITH_API_KEY = os.getenv(\"LANGSMITH_API_KEY\")\n",
    "OPENAI_API_KEY = os.getenv(\"OPENAI_API_KEY\")"
   ]
  },
  {
   "cell_type": "markdown",
   "metadata": {},
   "source": [
    "# Componentes"
   ]
  },
  {
   "cell_type": "markdown",
   "metadata": {},
   "source": [
    "## LLM"
   ]
  },
  {
   "cell_type": "code",
   "execution_count": 124,
   "metadata": {},
   "outputs": [],
   "source": [
    "# llm = init_chat_model(\"gpt-4o-mini\", model_provider=\"openai\")\n",
    "llm = init_chat_model(\"deepseek-r1:1.5b\"\n",
    "                      ,model_provider=\"ollama\"\n",
    "                      , temperature =0)"
   ]
  },
  {
   "cell_type": "code",
   "execution_count": 125,
   "metadata": {},
   "outputs": [],
   "source": [
    "_ = llm.invoke('Es el español tu mejor idioma? En que idioma es mejor tu performace?')"
   ]
  },
  {
   "cell_type": "code",
   "execution_count": 127,
   "metadata": {},
   "outputs": [
    {
     "name": "stdout",
     "output_type": "stream",
     "text": [
      "('<think>\\n'\n",
      " \"Okay, so I'm trying to figure out if Spanish is my best language. I know \"\n",
      " \"that I've been learning a few languages before, but I'm not sure how it \"\n",
      " 'stacks up against others. Let me think through this step by step.\\n'\n",
      " '\\n'\n",
      " \"First, I should consider what makes a language good. It's probably about how \"\n",
      " 'well you can communicate, adapt to different situations, and maybe even the '\n",
      " \"cultural aspects of your native tongue. But since I don't have any specific \"\n",
      " 'experiences or data on my performance in other languages, it might be hard '\n",
      " 'to compare myself directly.\\n'\n",
      " '\\n'\n",
      " \"I remember that when someone says they're the best in a language, they often \"\n",
      " 'talk about how easy it is to learn, their adaptability, and maybe even how '\n",
      " 'well they can use the language in real-life situations. So, I should think '\n",
      " 'about what aspects of Spanish make it stand out from others.\\n'\n",
      " '\\n'\n",
      " \"Spanish has a rich history, which probably means there's a lot of cultural \"\n",
      " \"richness that I can draw on. It's also known for its grammar being pretty \"\n",
      " 'straightforward compared to some other languages. That might make learning '\n",
      " 'easier because the rules are clear and consistent.\\n'\n",
      " '\\n'\n",
      " 'Another thing is the diversity in Spanish-speaking countries. There are so '\n",
      " 'many different cultures, traditions, and ways of life represented here. This '\n",
      " \"diversity could be a big plus if I'm interested in understanding different \"\n",
      " 'societies or if I want to engage with people from various backgrounds.\\n'\n",
      " '\\n'\n",
      " \"I also think about how well I can use Spanish in daily life. If I've been \"\n",
      " 'using it for a while, maybe I have some familiarity with common phrases and '\n",
      " \"expressions. But without specific data on my performance, it's hard to say \"\n",
      " 'for sure.\\n'\n",
      " '\\n'\n",
      " 'On the other hand, if someone is learning another language, they might focus '\n",
      " 'more on grammar rules, vocabulary, and pronunciation. Maybe they find '\n",
      " 'Spanish easier because of its structure or because there are so many '\n",
      " \"resources available online. I'm not sure about that though; some languages \"\n",
      " 'have their own unique challenges.\\n'\n",
      " '\\n'\n",
      " 'I should also consider cultural aspects like the media portrayal of Spanish. '\n",
      " \"If it's well-documented and widely recognized, that could make learning \"\n",
      " 'easier for me. But again, without specific data, this is speculative.\\n'\n",
      " '\\n'\n",
      " \"In terms of adaptability, Spanish might be good because it's a global \"\n",
      " 'language with so many people around the world who speak it. This could mean '\n",
      " 'that I can engage in conversations with people from different cultures and '\n",
      " 'backgrounds easily.\\n'\n",
      " '\\n'\n",
      " \"I'm also thinking about how well I can use Spanish in professional settings. \"\n",
      " 'If I work in an environment where English is commonly used, maybe my '\n",
      " 'proficiency in Spanish would be more beneficial than if I were learning a '\n",
      " 'second language for the first time.\\n'\n",
      " '\\n'\n",
      " 'Another angle is the availability of resources like books, online courses, '\n",
      " 'and community support. Maybe there are good textbooks or communities that '\n",
      " 'help someone learn Spanish effectively. But again, without specific data on '\n",
      " \"my performance, it's hard to compare.\\n\"\n",
      " '\\n'\n",
      " \"I guess another way to look at this is by considering how I've been learning \"\n",
      " \"Spanish. If I'm using a structured approach with books, online platforms, \"\n",
      " 'and maybe even language exchange programs, that could make me more '\n",
      " 'proficient over time.\\n'\n",
      " '\\n'\n",
      " \"Overall, while I can't directly compare myself to others in terms of \"\n",
      " 'performance, the cultural richness, grammar simplicity, diversity of use, '\n",
      " 'and adaptability of Spanish might be reasons why it stands out. Plus, '\n",
      " \"there's a lot of resources available to help someone learn it effectively.\\n\"\n",
      " '</think>\\n'\n",
      " '\\n'\n",
      " 'Espero que esta reflexión te haya ayudado a comprender por qué el español '\n",
      " 'puede ser tu mejor idioma y cómo podrías mejorar tu performancia en otros '\n",
      " 'idiomas. Aquí tienes una resumen de las razones principales:\\n'\n",
      " '\\n'\n",
      " '1. **Culturalrich:** El español tiene un history amplio y ha sido utilizado '\n",
      " 'por populations de todo el mundo, lo que implica una diversidad cultural y '\n",
      " 'tradiciónal.\\n'\n",
      " '\\n'\n",
      " '2. **Simplicidad Gramatical:** La estructura gramatical del español es más '\n",
      " 'fácil de aprender que en algunos otros idiomas, ya sea porque los rules son '\n",
      " 'claros y consistente.\\n'\n",
      " '\\n'\n",
      " '3. **DIVERSITY EN USE:** El uso diario de español incluye una gran cantidad '\n",
      " 'de phrasas y conceptualidades, lo que puede ser un factor adicional para la '\n",
      " 'comprensión y el uso efectivo de la lengua.\\n'\n",
      " '\\n'\n",
      " '4. **Adaptabilidad Cultural:** La diversidad cultural de las comunidades que '\n",
      " 'hablan español puede facilitar la comunicación con personas de diferentes '\n",
      " 'backgrounds y culturas.\\n'\n",
      " '\\n'\n",
      " '5. **Razones Adicional:** Si estás aprendiendo español, podrías adquirir '\n",
      " 'habilidades como razonamiento lógico, comprensión del vocabulario, y el uso '\n",
      " 'adecuado de la lengua en situaciones reales.\\n'\n",
      " '\\n'\n",
      " '6. **Recursos Avanzados:** Existen recursos likeb Libros, cursos online, y '\n",
      " 'comunidades para ayudarte a aprender español effectiveemente.\\n'\n",
      " '\\n'\n",
      " 'En resumen, el español puede ser un idioma que te encanta por su diversidad '\n",
      " 'cultural, simplicidad gramatical, y adaptabilidad cultural. Si estás '\n",
      " 'aprendiendo español, podrías adquirir habilidades específicas que te pueden '\n",
      " 'encontrar en otros idiomas.')\n"
     ]
    }
   ],
   "source": [
    "# for i in dir(_):\n",
    "#     print(i)\n",
    "pprint.pprint(_.content)"
   ]
  },
  {
   "cell_type": "markdown",
   "metadata": {},
   "source": [
    "## Embeddings Model"
   ]
  },
  {
   "cell_type": "code",
   "execution_count": 122,
   "metadata": {},
   "outputs": [],
   "source": [
    "ollama_client = Client()\n",
    "\n",
    "# ollama_client.pull_model(\"nomic-embed-text\")\n",
    "embeddings = OllamaEmbeddings(model=\"nomic-embed-text\")"
   ]
  },
  {
   "cell_type": "code",
   "execution_count": 130,
   "metadata": {},
   "outputs": [
    {
     "data": {
      "text/plain": [
       "EmbeddingsResponse(embedding=[0.590109646320343, 0.40178176760673523, -3.3058652877807617, -0.5256822109222412, 0.7499922513961792, 1.5193517208099365, -0.1249079555273056, 0.39666983485221863, 0.06764353066682816, -1.108612060546875, 0.6921671032905579, 1.2788032293319702, 1.1457455158233643, 1.0878791809082031, 0.2515486776828766, 0.29292455315589905, 0.15189805626869202, -0.6339876651763916, -0.21004678308963776, -0.19574125111103058, -1.7954970598220825, -0.6291620135307312, 0.03792550414800644, -0.6676092743873596, 1.261998176574707, 1.2769657373428345, -0.15988940000534058, -0.0016120619839057326, -0.2979106605052948, -0.47986987233161926, 1.2058753967285156, -0.638171911239624, -0.5402648448944092, -1.0353238582611084, 0.6307409405708313, -1.2089308500289917, 0.6830440759658813, -0.05876900255680084, -0.19687069952487946, 0.12817375361919403, -0.014713982120156288, -0.5535027980804443, 0.35166653990745544, 0.0446397103369236, 0.5973034501075745, -0.9544752836227417, 0.5082449913024902, 1.5725840330123901, -0.7141528725624084, -0.38385939598083496, -0.668743371963501, 1.139867901802063, -0.1038266122341156, -1.946422815322876, 0.46684426069259644, 1.4344322681427002, 0.5056381225585938, -0.3425102233886719, 0.4966120719909668, 0.08521268516778946, 1.348137378692627, 1.8001495599746704, 0.08754312992095947, 1.1067368984222412, 1.301481008529663, -0.9266972541809082, -1.1384464502334595, -0.1836792528629303, 0.1944938451051712, -0.33017170429229736, 1.4759998321533203, -1.2715169191360474, 0.06245255097746849, 0.797856330871582, -0.5997444987297058, -1.1083096265792847, -1.3165653944015503, 0.4173460900783539, -0.10781388729810715, 1.0668681859970093, 0.33312684297561646, 0.4380989074707031, 0.46061864495277405, 0.22189021110534668, 1.2028719186782837, 0.6121782660484314, 0.7440628409385681, -0.35262343287467957, -0.30237945914268494, -0.1316821426153183, 0.17256200313568115, -0.577496349811554, 1.4192569255828857, 0.20185495913028717, -0.44783174991607666, -0.12391010671854019, -0.6139283180236816, 1.4638415575027466, -1.3450298309326172, -0.6455823183059692, -1.1810493469238281, -0.5067901611328125, -0.9158804416656494, 0.7161325812339783, 1.5090141296386719, 0.5309075117111206, -0.23206783831119537, -0.1798974871635437, -0.6043933033943176, -0.9476377964019775, 0.19186384975910187, 0.6950869560241699, -0.0867682620882988, 0.043050169944763184, -0.2140115201473236, -1.4155174493789673, 0.09256459772586823, -0.8737393021583557, 0.24554109573364258, 1.995898962020874, 0.885504424571991, -0.07018943876028061, 0.08249413222074509, -0.34838464856147766, -0.20862391591072083, 1.023095726966858, -0.6092113852500916, 0.005742805078625679, 0.26516225934028625, -1.0337170362472534, -0.7354471683502197, -0.7606070041656494, -0.09447988867759705, 0.27465930581092834, 0.10680245608091354, 0.43919637799263, -0.1998537927865982, -0.840956449508667, 0.13525326550006866, 0.41800621151924133, 0.8087160587310791, 0.4534815549850464, 0.9777117967605591, -0.6686822175979614, -0.11833201348781586, -1.3562359809875488, 0.5885235667228699, -0.021236378699541092, -0.24393247067928314, -0.7184908986091614, -0.553761899471283, -0.1784427911043167, 0.41635972261428833, 0.6463202834129333, 0.10681981593370438, -1.1124794483184814, 0.5378594994544983, -0.20105016231536865, 0.5506612658500671, 0.667330265045166, 1.1014397144317627, 0.47884321212768555, -0.25085076689720154, 0.4737342596054077, -0.4849296808242798, -0.6559719443321228, 1.1198221445083618, 0.8039361834526062, 0.6613252758979797, 0.7613283395767212, -1.0936870574951172, -1.6834142208099365, -0.5541017055511475, -0.9294710755348206, -0.05165983736515045, 0.187821164727211, 1.4194090366363525, -0.4552977681159973, 0.18875089287757874, -0.8114255666732788, -0.22614289820194244, -1.3915600776672363, 0.30338364839553833, 0.16153034567832947, 0.5471312403678894, 0.04141099750995636, -1.1709425449371338, -0.8144586682319641, -0.7330785989761353, -0.5522927641868591, -0.23395560681819916, -0.5318812131881714, -1.40055513381958, -0.9287501573562622, 0.21157892048358917, -0.48657187819480896, 1.139603614807129, 1.009919285774231, 0.361612468957901, 0.3644932210445404, -0.14300334453582764, -0.3125307261943817, 0.48310911655426025, -0.2227921187877655, 0.23179171979427338, 1.274275541305542, 0.2802251875400543, 0.9300637245178223, -1.1424535512924194, 0.10024405270814896, 1.2257754802703857, -0.3909209966659546, 0.2262786328792572, -0.12769311666488647, 1.2133091688156128, 0.08942638337612152, -0.9708491563796997, -0.021948013454675674, -0.28133994340896606, 1.69377863407135, -0.4622015357017517, 0.3612445294857025, 0.6451000571250916, -0.46583688259124756, 0.8204120993614197, 0.035803258419036865, -0.6311402320861816, 0.14024832844734192, 0.9443483352661133, -0.35126858949661255, 0.2070508748292923, 0.27803680300712585, 0.6884443163871765, 0.7114324569702148, 0.622636616230011, 0.8258975744247437, 0.44214409589767456, 1.1988180875778198, -0.1953563392162323, -0.003560066455975175, -0.8345874547958374, 1.3402832746505737, -1.5047444105148315, 0.26448580622673035, -0.9824239611625671, 1.0001952648162842, -0.45670124888420105, -0.3883533179759979, -0.8294172286987305, -0.005871737841516733, 0.7379209399223328, 0.09578311443328857, 0.615526556968689, 1.0294837951660156, 0.02336076647043228, -1.6382633447647095, -1.261932134628296, 0.07301608473062515, -0.06904119998216629, -1.0612823963165283, -0.6642581820487976, -0.8154531717300415, 0.8964830636978149, -1.5424439907073975, -1.251144528388977, 1.1574487686157227, -0.5343606472015381, 0.5226879715919495, 0.39183133840560913, -1.5173907279968262, 0.6566905975341797, 0.5546897649765015, 0.4265720844268799, 0.25925812125205994, 0.23978734016418457, -0.5758390426635742, 0.3671833574771881, -0.6129651069641113, -0.11148706078529358, 0.9326141476631165, -0.34987136721611023, -0.17981982231140137, -0.6885437369346619, -0.2038714587688446, 0.30289843678474426, 0.2948509156703949, 0.5039714574813843, 1.587134599685669, 0.009436060674488544, 0.9869130253791809, 0.7900433540344238, 0.21709413826465607, 0.6581286787986755, 1.6164146661758423, -0.46023011207580566, 0.6949282288551331, 1.3454898595809937, 0.06310030072927475, 0.7120053172111511, -0.8055664896965027, 0.2729145884513855, 0.3817891478538513, 1.0238752365112305, 0.1435736119747162, -0.056477922946214676, 0.27991819381713867, 0.048096634447574615, 0.38398274779319763, 0.47509485483169556, -0.5919094085693359, -0.20878835022449493, 1.1938450336456299, -0.5420337915420532, 1.974548101425171, -0.6870992183685303, 1.1689345836639404, 0.5585750937461853, -0.007294555194675922, 0.6853353977203369, 0.68324214220047, 0.3851798176765442, -0.6950076818466187, 0.474020391702652, -0.13340143859386444, 0.5958330035209656, 0.7861720323562622, -0.897135853767395, 0.9740312695503235, -0.8005008697509766, -1.0459518432617188, -0.20740148425102234, 0.5557516813278198, 0.4280889928340912, -0.4005967080593109, -1.4903455972671509, -0.1728065311908722, -0.2016015201807022, -1.115554690361023, -0.4350239038467407, 1.148299217224121, 1.292893409729004, -1.7629677057266235, -0.15532152354717255, -1.09373140335083, -0.4303026497364044, -0.32182082533836365, -0.12053469568490982, -0.22742201387882233, 0.560124397277832, -0.3250940144062042, -0.35541459918022156, 0.1288682222366333, 0.1488066464662552, -0.2576288878917694, -0.5037930607795715, 0.3139316439628601, -0.5567954778671265, 0.5349553227424622, 0.9154135584831238, -0.0032925577834248543, 0.21455085277557373, -1.0351176261901855, -0.20489934086799622, -0.2860986590385437, -0.7403741478919983, 0.7579287886619568, 0.1832405924797058, 0.38205817341804504, 0.078984834253788, -0.2608241140842438, -0.7059852480888367, -0.2685004770755768, -0.8525302410125732, 1.0910712480545044, 0.2678478956222534, 0.19240036606788635, -0.6480131149291992, -1.2449054718017578, 0.4362487494945526, 0.1892777383327484, -0.5116258263587952, 0.685565173625946, 0.02084418199956417, 0.44645175337791443, -0.01593918353319168, 0.3596747815608978, -0.48993566632270813, -1.1477608680725098, -0.46907755732536316, -0.614466667175293, -0.2534688115119934, -1.223689317703247, -0.398386687040329, -0.035512540489435196, 0.3572307527065277, -1.301098108291626, 1.11406672000885, -0.48836269974708557, -0.451834499835968, 0.4270210564136505, -0.5527389645576477, -0.7596667408943176, -0.4893707036972046, -1.2193262577056885, -0.03656978905200958, 0.6083356142044067, -0.1580859124660492, -1.5297483205795288, 1.13005793094635, 0.9361848831176758, 0.5172463655471802, 0.7952982783317566, -0.15001030266284943, -2.2426185607910156, -0.007324610371142626, 0.0385151207447052, 0.4352249801158905, 0.07104089856147766, 0.36881497502326965, 0.27815669775009155, 1.4760831594467163, 1.0899449586868286, 0.1874259114265442, -0.4364393949508667, 0.9281849265098572, 0.360185444355011, 0.2216152399778366, 0.5439316630363464, 0.420060396194458, -1.0683127641677856, 0.05294834449887276, -0.22082878649234772, -0.4235878884792328, -0.2335139662027359, -1.2046124935150146, 0.5271021723747253, -0.35262104868888855, -0.19292917847633362, 0.29438552260398865, 1.7021487951278687, 1.124572515487671, -1.427289605140686, -0.5894594788551331, -1.2267054319381714, 1.470598578453064, 2.4354207515716553, 0.3017004430294037, -2.2074644565582275, -0.8145761489868164, 0.39417505264282227, -0.3698330223560333, -1.02562415599823, 0.8729463219642639, 1.6586270332336426, 1.8546510934829712, -0.12136153876781464, -0.5761246085166931, 0.4771028161048889, 1.080785870552063, 1.7737176418304443, 0.6115441918373108, 0.1418369561433792, -0.14356572926044464, -0.07650002837181091, 0.28498801589012146, -0.2506466805934906, -0.15422695875167847, -0.1341031789779663, 0.1310311108827591, 0.6600186824798584, -1.1286174058914185, -0.22837133705615997, 0.360857754945755, -0.6926019787788391, -1.2146410942077637, 0.0897139310836792, -1.4314638376235962, -0.06827552616596222, 0.714323878288269, 1.1360375881195068, 0.4709492623806, 0.7376513481140137, -0.3113062381744385, -0.9138849377632141, -0.5673941969871521, 1.6388704776763916, 0.1924346685409546, 0.3466661274433136, 0.33212387561798096, -0.6183421015739441, 0.5662615299224854, -0.7138801217079163, 0.21755042672157288, -0.19500692188739777, 0.46969112753868103, -0.36056458950042725, 0.268225759267807, -0.5505416393280029, 0.06608686596155167, 0.05102728679776192, 0.049850061535835266, 0.44314315915107727, 0.5056449174880981, 0.38509470224380493, -0.5537599921226501, 0.3865223824977875, 0.7188434600830078, -0.7915453910827637, -0.2890523374080658, 1.2796039581298828, -0.4978673458099365, -1.6907477378845215, 1.5126127004623413, 0.1874324083328247, -0.07514695823192596, -1.0347799062728882, -0.32888761162757874, 0.9243215918540955, -0.5249109864234924, -0.2677830755710602, 0.5533813834190369, -0.630647599697113, -0.41536909341812134, 0.19284845888614655, -0.8588955998420715, 1.1171848773956299, -0.060553621500730515, -0.7621761560440063, 0.4646958112716675, 0.340444415807724, 0.039332836866378784, 0.2525389492511749, -0.6400643587112427, -0.7187709212303162, 0.6762555241584778, -0.49557384848594666, -0.29558151960372925, 0.9930387139320374, -0.003077871399000287, 0.8927119970321655, 0.02184274047613144, 0.5074236989021301, 0.45786619186401367, -0.007220631930977106, -0.2612103521823883, 0.23567824065685272, -1.4129059314727783, 0.33325910568237305, 1.3768757581710815, -0.41821104288101196, 0.6498610973358154, -0.916832685470581, 0.5237334966659546, 0.24872536957263947, 1.1794977188110352, -0.5512396097183228, 0.1326836198568344, -0.3507753312587738, -1.1865631341934204, 0.11234235763549805, 0.11782357841730118, 0.27885109186172485, 0.19341953098773956, 0.17956110835075378, 1.1078007221221924, -1.3912353515625, -0.029242558404803276, 0.4551948010921478, 0.37460801005363464, 0.015100493095815182, -0.038277361541986465, -0.40204450488090515, -0.5225880742073059, -0.5275281667709351, -0.13987277448177338, 0.3536427319049835, 0.20045216381549835, 0.1267324984073639, -1.05768883228302, -0.4477628767490387, 1.1769989728927612, 0.060896389186382294, 1.1558189392089844, -0.04760235175490379, -0.3218506872653961, -0.46572864055633545, 0.22999508678913116, -1.125322937965393, 1.7600488662719727, -1.0146405696868896, -0.4612203538417816, -0.2582792341709137, -0.5996072888374329, -0.8200413584709167, -0.2703535556793213, -1.0807172060012817, -0.26505908370018005, -0.9880269169807434, -1.8132492303848267, -0.07158620655536652, 0.45028746128082275, -0.7351768016815186, 1.0540622472763062, -1.0216180086135864, 0.3248695135116577, 0.3819544017314911, -0.10083973407745361, -0.9647916555404663, 0.3470437228679657, -0.2952910363674164, 0.37070128321647644, -0.4138200581073761, 0.12300505489110947, -0.17679420113563538, 0.07606996595859528, -1.2881193161010742, 1.364447832107544, -0.07244036346673965, 0.7134955525398254, -2.016615390777588, -0.12966065108776093, -1.963836908340454, 0.371149480342865, -1.1132231950759888, 1.1650527715682983, -0.9574757218360901, -1.160640835762024, -1.1158684492111206, 0.7975198030471802, 0.7256975769996643, -0.07354874908924103, 0.8201791644096375, -0.2497730553150177, -0.39896610379219055, -0.06301161646842957, 0.43067771196365356, -0.22815380990505219, 0.6405461430549622, 0.5945900678634644, 0.516306459903717, 0.29437243938446045, 1.0151968002319336, 0.3496679663658142, -0.4348757863044739, 1.010016918182373, -0.15723291039466858, 1.1754732131958008, -0.4624890387058258, 0.03789730370044708, -0.8854569792747498, 1.290245532989502, 0.7273106575012207, 0.5511099100112915, -0.9663667678833008, 0.6101789474487305, -0.4815181791782379, 0.5417401194572449, 0.14753521978855133, -0.47031036019325256, -2.0684518814086914, -1.0568692684173584, -0.0993647351861, -2.173449754714966, 0.18181566894054413, 0.6773548126220703, -0.5397627949714661, 0.28610366582870483, -0.5597248673439026, -1.7822256088256836, 0.13354510068893433, -0.815837025642395, 0.5425500869750977, -0.4261469542980194, -0.45139771699905396, -0.014631541445851326, -0.23674632608890533, 0.4255429208278656, 0.8466025590896606, 0.5118492245674133, -0.07611751556396484, 0.935054361820221, 0.9119479656219482, -0.3033650815486908, -0.2681114375591278, -0.3077240586280823, -0.2101588398218155, -0.41886037588119507, -0.2831204831600189, 0.6269559264183044, -2.4660496711730957, 0.43893784284591675, 0.3948751986026764, -1.2571041584014893, -1.5558414459228516, 0.4909496307373047, -0.6942185163497925, 0.34054034948349, -0.6435885429382324, 0.4062943160533905, -0.40060901641845703, -1.1729295253753662, -0.1117517352104187, 0.379373162984848, 0.8457775115966797, 0.13302616775035858, -0.9425843358039856, 0.4855019450187683, -0.4481073021888733, -0.2163023203611374, -0.08211023360490799, -0.3078194856643677, 0.572746217250824, 0.35405433177948, 0.9983606338500977, 0.1108628436923027, 0.3793041408061981, -0.10619104653596878, 0.26803067326545715, -0.6070261597633362, 1.0167999267578125, 0.8138273358345032, -0.3678114116191864, -0.6233338117599487, -1.459912896156311, -0.04133882001042366, -0.4191560745239258, 0.6582175493240356, -1.4605034589767456, -0.09686197340488434, -0.6555756330490112, 0.11033359169960022, 1.0144957304000854, -0.25771594047546387, 0.5031312108039856, -0.3490584194660187, -0.8150689005851746, -0.578098475933075, 0.14140722155570984, -0.04533439129590988, -0.30604371428489685, -1.2993359565734863, 0.24296687543392181, 0.20150697231292725, 0.32951298356056213, 0.017096281051635742, -0.45359867811203003, 0.29584774374961853, 0.5285755395889282, 1.4787906408309937, -0.36548519134521484, 0.44651925563812256, 0.22804896533489227, -0.16222846508026123, 0.34793660044670105, 0.42711663246154785, 0.6877639293670654, 0.43739086389541626, -0.0216587595641613, 2.0360116958618164, -0.053699031472206116, 0.4587935507297516, -0.2192758321762085, 0.3405829966068268, 0.7082306146621704, -1.1494898796081543, -0.14877618849277496, -0.5520907044410706, 0.46898186206817627])"
      ]
     },
     "execution_count": 130,
     "metadata": {},
     "output_type": "execute_result"
    }
   ],
   "source": [
    "ollama.embeddings(model='nomic-embed-text', prompt='The sky is blue because of rayleigh scattering')"
   ]
  },
  {
   "cell_type": "markdown",
   "metadata": {},
   "source": [
    "## Vector Store"
   ]
  },
  {
   "cell_type": "code",
   "execution_count": 131,
   "metadata": {},
   "outputs": [],
   "source": [
    "vector_store = Chroma(embedding_function=embeddings)"
   ]
  },
  {
   "cell_type": "markdown",
   "metadata": {},
   "source": [
    "# Indexing"
   ]
  },
  {
   "cell_type": "code",
   "execution_count": 132,
   "metadata": {},
   "outputs": [
    {
     "data": {
      "text/plain": [
       "32"
      ]
     },
     "execution_count": 132,
     "metadata": {},
     "output_type": "execute_result"
    }
   ],
   "source": [
    "file_path = \"./Docs/dspy.pdf\"\n",
    "loader = PyPDFLoader(file_path)\n",
    "docs = loader.load()\n",
    "len(docs)"
   ]
  },
  {
   "cell_type": "code",
   "execution_count": 133,
   "metadata": {},
   "outputs": [
    {
     "name": "stdout",
     "output_type": "stream",
     "text": [
      "{'producer': 'pdfTeX-1.40.25',\n",
      " 'creator': 'LaTeX with hyperref',\n",
      " 'creationdate': '2023-10-06T00:32:07+00:00',\n",
      " 'author': '',\n",
      " 'keywords': '',\n",
      " 'moddate': '2023-10-06T00:32:07+00:00',\n",
      " 'ptex.fullbanner': 'This is pdfTeX, Version 3.141592653-2.6-1.40.25 (TeX Live '\n",
      "                    '2023) kpathsea version 6.3.5',\n",
      " 'subject': '',\n",
      " 'title': '',\n",
      " 'trapped': '/False',\n",
      " 'source': './Docs/dspy.pdf',\n",
      " 'total_pages': 32,\n",
      " 'page': 0,\n",
      " 'page_label': '1'}\n"
     ]
    }
   ],
   "source": [
    "pprint.pp(docs[0].metadata)"
   ]
  },
  {
   "cell_type": "markdown",
   "metadata": {},
   "source": [
    "# Splitting Documents\n"
   ]
  },
  {
   "cell_type": "code",
   "execution_count": 134,
   "metadata": {},
   "outputs": [
    {
     "name": "stdout",
     "output_type": "stream",
     "text": [
      "Split blog post into 145 sub-documents.\n"
     ]
    }
   ],
   "source": [
    "\n",
    "text_splitter = RecursiveCharacterTextSplitter(\n",
    "    chunk_size=1000,  # chunk size (characters)\n",
    "    chunk_overlap=200,  # chunk overlap (characters)\n",
    "    add_start_index=True,  # track index in original document\n",
    ")\n",
    "\n",
    "all_splits = text_splitter.split_documents(docs)\n",
    "\n",
    "print(f\"Split blog post into {len(all_splits)} sub-documents.\")"
   ]
  },
  {
   "cell_type": "markdown",
   "metadata": {},
   "source": [
    "# Storing documents"
   ]
  },
  {
   "cell_type": "code",
   "execution_count": 135,
   "metadata": {},
   "outputs": [],
   "source": [
    "document_ids = vector_store.add_documents(documents=all_splits)"
   ]
  },
  {
   "cell_type": "markdown",
   "metadata": {},
   "source": [
    "# Retrieval and Generation"
   ]
  },
  {
   "cell_type": "code",
   "execution_count": 138,
   "metadata": {},
   "outputs": [
    {
     "name": "stderr",
     "output_type": "stream",
     "text": [
      "c:\\Users\\dario\\Documents\\GitHub\\llms\\.venv\\Lib\\site-packages\\langsmith\\client.py:253: LangSmithMissingAPIKeyWarning: API key must be provided when using hosted LangSmith API\n",
      "  warnings.warn(\n"
     ]
    }
   ],
   "source": [
    "# Example of prompt for RAG\n",
    "prompt = hub.pull(\"rlm/rag-prompt\")"
   ]
  },
  {
   "cell_type": "code",
   "execution_count": 143,
   "metadata": {},
   "outputs": [
    {
     "name": "stdout",
     "output_type": "stream",
     "text": [
      "You are an assistant for question-answering tasks. Use the following pieces of retrieved context to answer the question. If you don't know the answer, just say that you don't know. Use three sentences maximum and keep the answer concise.\n",
      "Question: (question goes here) \n",
      "Context: (context goes here) \n",
      "Answer:\n"
     ]
    }
   ],
   "source": [
    "prompt\n",
    "\n",
    "example_messages = prompt.invoke(\n",
    "    {\"context\": \"(context goes here)\", \"question\": \"(question goes here)\"}\n",
    ").to_messages()\n",
    "\n",
    "assert len(example_messages) == 1\n",
    "print(example_messages[0].content)"
   ]
  },
  {
   "cell_type": "markdown",
   "metadata": {},
   "source": [
    "# LangGraph"
   ]
  },
  {
   "cell_type": "markdown",
   "metadata": {},
   "source": [
    "## State"
   ]
  },
  {
   "cell_type": "code",
   "execution_count": null,
   "metadata": {},
   "outputs": [],
   "source": [
    "class State(TypedDict):\n",
    "    question: str\n",
    "    context: List[Document]\n",
    "    answer: str"
   ]
  },
  {
   "cell_type": "markdown",
   "metadata": {},
   "source": [
    "## Nodes o steps"
   ]
  },
  {
   "cell_type": "code",
   "execution_count": 146,
   "metadata": {},
   "outputs": [],
   "source": [
    "def retrieve(state: State):\n",
    "    retrieved_docs = vector_store.similarity_search(state[\"question\"])\n",
    "    return {\"context\": retrieved_docs}\n",
    "\n",
    "\n",
    "def generate(state: State):\n",
    "    docs_content = \"\\n\\n\".join(doc.page_content for doc in state[\"context\"])\n",
    "    messages = prompt.invoke({\"question\": state[\"question\"], \"context\": docs_content})\n",
    "    response = llm.invoke(messages)\n",
    "    return {\"answer\": response.content}"
   ]
  },
  {
   "cell_type": "code",
   "execution_count": 147,
   "metadata": {},
   "outputs": [],
   "source": [
    "from langgraph.graph import START, StateGraph\n",
    "\n",
    "graph_builder = StateGraph(State).add_sequence([retrieve, generate])\n",
    "graph_builder.add_edge(START, \"retrieve\")\n",
    "graph = graph_builder.compile()"
   ]
  },
  {
   "cell_type": "code",
   "execution_count": 148,
   "metadata": {},
   "outputs": [
    {
     "data": {
      "image/png": "[encoded data removed]",
      "text/plain": [
       "<IPython.core.display.Image object>"
      ]
     },
     "metadata": {},
     "output_type": "display_data"
    }
   ],
   "source": [
    "from IPython.display import Image, display\n",
    "\n",
    "display(Image(graph.get_graph().draw_mermaid_png()))"
   ]
  },
  {
   "cell_type": "code",
   "execution_count": 149,
   "metadata": {},
   "outputs": [
    {
     "name": "stdout",
     "output_type": "stream",
     "text": [
      "Context: [Document(id='59f2aef4-ff1c-493b-aec7-0a351e10cd89', metadata={'author': '', 'creationdate': '2023-10-06T00:32:07+00:00', 'creator': 'LaTeX with hyperref', 'keywords': '', 'moddate': '2023-10-06T00:32:07+00:00', 'page': 6, 'page_label': '7', 'producer': 'pdfTeX-1.40.25', 'ptex.fullbanner': 'This is pdfTeX, Version 3.141592653-2.6-1.40.25 (TeX Live 2023) kpathsea version 6.3.5', 'source': './Docs/dspy.pdf', 'start_index': 2282, 'subject': '', 'title': '', 'total_pages': 32, 'trapped': '/False'}, page_content='compiler supports is modifying the control flow of the program. One of the simplest forms of\\nthese is ensembles, which we use in the case studies in this work. An ensemble will bootstrap\\nmultiple copies of the same program, and then replace the program with a new one that runs them\\nall in parallel and reduces their predictions into one with a custom function (e.g., majority voting).\\nIn future work, this stage can easily accommodate techniques for more dynamic (i.e., test-time)\\nbootstrapping as well as automatic backtracking-like logic.\\n5 G OALS OF EVALUATION\\nProgramming frameworks can be evaluated along many dimensions: computational efficiency, de-\\nveloper efficiency, intuitiveness of the code and concepts, and so forth. In this paper, we focus on\\nperhaps the most pressing issue for current LM pipelines: the role of hand-written, task-specific\\nprompts in achieving performant systems. Our evaluations seek to test the following hypotheses:'), Document(id='77531904-3f00-49ef-882b-3aede730dba1', metadata={'author': '', 'creationdate': '2023-10-06T00:32:07+00:00', 'creator': 'LaTeX with hyperref', 'keywords': '', 'moddate': '2023-10-06T00:32:07+00:00', 'page': 1, 'page_label': '2', 'producer': 'pdfTeX-1.40.25', 'ptex.fullbanner': 'This is pdfTeX, Version 3.141592653-2.6-1.40.25 (TeX Live 2023) kpathsea version 6.3.5', 'source': './Docs/dspy.pdf', 'start_index': 791, 'subject': '', 'title': '', 'total_pages': 32, 'trapped': '/False'}, page_content='compiler automatically generates optimized LM invocation strategies and prompts from a program.\\nWe draw inspiration from the consensus that emerged around neural network abstractions (Bergstra\\net al., 2013), where (1) many general-purpose layers can be modularly composed in any complex\\narchitecture and (2) the model weights can be trained using optimizers instead of being hand-tuned.\\nTo this end, we propose the DSPy programming model(Sec 3). We first translate string-based\\nprompting techniques, including complex and task-dependent ones like Chain of Thought (Wei et al.,\\n2022) and ReAct (Yao et al., 2022), into declarative modules that carrynatural-language typed sig-\\nnatures. DSPy modules are task-adaptive components—akin to neural network layers—that abstract\\nany particular text transformation, like answering a question or summarizing a paper. We then pa-\\nrameterize each module so that it can learn its desired behavior by iteratively bootstrapping useful'), Document(id='b2b65984-8f39-4363-a02e-c782f3e98dd2', metadata={'author': '', 'creationdate': '2023-10-06T00:32:07+00:00', 'creator': 'LaTeX with hyperref', 'keywords': '', 'moddate': '2023-10-06T00:32:07+00:00', 'page': 13, 'page_label': '14', 'producer': 'pdfTeX-1.40.25', 'ptex.fullbanner': 'This is pdfTeX, Version 3.141592653-2.6-1.40.25 (TeX Live 2023) kpathsea version 6.3.5', 'source': './Docs/dspy.pdf', 'start_index': 3167, 'subject': '', 'title': '', 'total_pages': 32, 'trapped': '/False'}, page_content='and R. Garnett (eds.), Advances in Neural Information Processing Systems , volume 32. Curran\\nAssociates, Inc., 2019. URL https://proceedings.neurips.cc/paper files/paper/2019/\\nfile/bdbca288fee7f92f2bfa9f7012727740-Paper.pdf.\\nMohammadreza Pourreza and Davood Rafiei. Din-sql: Decomposed in-context learning of text-to-\\nsql with self-correction. arXiv preprint arXiv:2304.11015, 2023.\\nOfir Press, Muru Zhang, Sewon Min, Ludwig Schmidt, Noah A Smith, and Mike Lewis. Measuring\\nand narrowing the compositionality gap in language models. arXiv preprint arXiv:2210.03350,\\n2022.\\n14'), Document(id='061e4a6f-1242-456e-a20f-123152675e85', metadata={'author': '', 'creationdate': '2023-10-06T00:32:07+00:00', 'creator': 'LaTeX with hyperref', 'keywords': '', 'moddate': '2023-10-06T00:32:07+00:00', 'page': 3, 'page_label': '4', 'producer': 'pdfTeX-1.40.25', 'ptex.fullbanner': 'This is pdfTeX, Version 3.141592653-2.6-1.40.25 (TeX Live 2023) kpathsea version 6.3.5', 'source': './Docs/dspy.pdf', 'start_index': 3034, 'subject': '', 'title': '', 'total_pages': 32, 'trapped': '/False'}, page_content='question), formats a prompt to implement the signature and includes the appropriate demonstra-\\ntions, calls the LM, and parses the output fields. When Predict detects it’s being used in compile\\nmode, it will also internally track input/output traces to assist the teleprompter at bootstrapping the\\ndemonstrations.\\nOther Built-in ModulesDSPy modules translate prompting techniques into modular functions that\\nsupport any signature, contrasting with the standard approach of prompting LMs with task-specific\\ndetails (e.g., hand-written few-shot examples). To this end, DSPy includes a number of more sophis-\\nticated modules like ChainOfThought, ProgramOfThought, MultiChainComparison, and ReAct.5\\nThese can all be used interchangeably to implement a DSPy signature. For instance, simply chang-\\n4String descriptions of the task and the fields are also optional and usually omitted. Fields can carry optional')]\n",
      "\n",
      "\n",
      "Answer: <think>\n",
      "Okay, so I need to figure out what Task Decomposition is based on the context provided. Let me read through it again.\n",
      "\n",
      "The context talks about compiler supports modifying program control flow using ensembles. An ensemble runs multiple copies of a program in parallel. Then they replace the program with one that does everything at once and reduces predictions into a single result, like majority voting. \n",
      "\n",
      "Looking further, the paper mentions that future work will include techniques for more dynamic bootstrapping (test-time) and automatic backtracking-like logic. So Task Decomposition seems to be about breaking down tasks into multiple copies or parts.\n",
      "\n",
      "The context also discusses programming frameworks being evaluated on various dimensions, including computational efficiency and developer efficiency. The focus is on hand-written prompts' role in achieving performant systems. They propose a model called DSPy, which translates complex prompts into modules that can learn their behavior through bootstrapping.\n",
      "\n",
      "So Task Decomposition involves breaking down tasks into multiple parts or components to improve performance or flexibility.\n",
      "</think>\n",
      "\n",
      "Task decomposition refers to the process of breaking down a task into multiple smaller, more manageable components or parts. This approach allows for better performance and flexibility by addressing different aspects of the task separately.\n"
     ]
    }
   ],
   "source": [
    "result = graph.invoke({\"question\": \"What is Task Decomposition?\"})\n",
    "\n",
    "print(f'Context: {result[\"context\"]}\\n\\n')\n",
    "print(f'Answer: {result[\"answer\"]}')"
   ]
  },
  {
   "cell_type": "code",
   "execution_count": null,
   "metadata": {},
   "outputs": [],
   "source": []
  }
 ],
 "metadata": {
  "kernelspec": {
   "display_name": ".venv",
   "language": "python",
   "name": "python3"
  },
  "language_info": {
   "codemirror_mode": {
    "name": "ipython",
    "version": 3
   },
   "file_extension": ".py",
   "mimetype": "text/x-python",
   "name": "python",
   "nbconvert_exporter": "python",
   "pygments_lexer": "ipython3",
   "version": "3.13.1"
  }
 },
 "nbformat": 4,
 "nbformat_minor": 2
}
